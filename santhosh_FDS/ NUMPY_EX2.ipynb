{
 "cells": [
  {
   "cell_type": "code",
   "execution_count": 5,
   "id": "4d63e650-4ef2-4f29-9191-1810b7e10402",
   "metadata": {},
   "outputs": [],
   "source": [
    "# pip show numpy"
   ]
  },
  {
   "cell_type": "code",
   "execution_count": 7,
   "id": "837ea888-5aef-4bd7-b5d1-0536d52588ed",
   "metadata": {},
   "outputs": [
    {
     "name": "stdout",
     "output_type": "stream",
     "text": [
      "x1 ndim:  1\n",
      "x2 shape: (3, 4)\n",
      "x3 size:  60\n"
     ]
    }
   ],
   "source": [
    "import numpy as np \n",
    "np.random.seed(0) \n",
    "x1 = np.random.randint(10, size=6) \n",
    "x2 = np.random.randint(10, size=(3, 4)) \n",
    "x3 = np.random.randint(10, size=(3, 4, 5)) \n",
    "print(\"x1 ndim: \", x1.ndim) \n",
    "print(\"x2 shape:\", x2.shape) \n",
    "print(\"x3 size: \", x3.size) "
   ]
  },
  {
   "cell_type": "code",
   "execution_count": 11,
   "id": "57b58284-4c22-4072-a784-58f78104d8c6",
   "metadata": {},
   "outputs": [
    {
     "name": "stdout",
     "output_type": "stream",
     "text": [
      "array\n",
      "[4 3 4 4 8 4]\n",
      "select an element from an array\n",
      "4\n",
      "select an element by negative index\n",
      "4\n"
     ]
    }
   ],
   "source": [
    "import numpy as np \n",
    "x1 = np.random.randint(10, size=6) \n",
    "print('array') \n",
    "print(x1) \n",
    "print('select an element from an array') \n",
    "print(x1[0]) \n",
    "print('select an element by negative index') \n",
    "print(x1[-3])"
   ]
  },
  {
   "cell_type": "code",
   "execution_count": 13,
   "id": "52b1ed12-7be6-45f6-bbc6-433fa0694f5e",
   "metadata": {},
   "outputs": [
    {
     "name": "stdout",
     "output_type": "stream",
     "text": [
      "array\n",
      "[[ 3 10  7  5]\n",
      " [ 5  0  1  5]\n",
      " [ 9  3  0  5]]\n",
      "select an element from an array\n",
      "1\n"
     ]
    }
   ],
   "source": [
    "import numpy as np \n",
    "x1 = np.random.randint(12, size=(3,4)) \n",
    "print('array') \n",
    "print(x1) \n",
    "print('select an element from an array') \n",
    "print(x1[1,2]) "
   ]
  },
  {
   "cell_type": "code",
   "execution_count": 16,
   "id": "aebc7c7a-091c-4f52-8c16-3b1deff91e09",
   "metadata": {},
   "outputs": [
    {
     "name": "stdout",
     "output_type": "stream",
     "text": [
      "A sequence Array\n",
      "[0 1 2 3 4 5 6 7 8 9]\n",
      "Slice first 3 values\n",
      "[0 1 2]\n",
      "Slice elements after index 7\n",
      "[7 8 9]\n",
      "slice middle values\n",
      "[4 5 6]\n",
      "slice every second element\n",
      "[0 2 4 6 8]\n"
     ]
    }
   ],
   "source": [
    "import numpy as np \n",
    "print('A sequence Array') \n",
    "x = np.arange(10) \n",
    "print(x) \n",
    "print('Slice first 3 values') \n",
    "print(x[:3]) \n",
    "print('Slice elements after index 7') \n",
    "print(x[7:]) \n",
    "print('slice middle values') \n",
    "print(x[4:7]) \n",
    "print('slice every second element') \n",
    "print(x[::2]) "
   ]
  },
  {
   "cell_type": "code",
   "execution_count": 18,
   "id": "3384a726-ff23-4004-9526-6504bfa521b5",
   "metadata": {},
   "outputs": [
    {
     "name": "stdout",
     "output_type": "stream",
     "text": [
      "Array [[3 5 2 4]\n",
      " [7 6 8 8]\n",
      " [1 6 7 7]]\n",
      "Slice two rows and three columns\n",
      "[[0 1 2]\n",
      " [2 0 3]]\n",
      "Slice three rows and two columns\n",
      "[[0 2]\n",
      " [2 3]\n",
      " [0 5]]\n",
      "Slice a particular value\n",
      "[[0]]\n"
     ]
    }
   ],
   "source": [
    "import numpy as np \n",
    "x = np.random.randint(10, size=(3, 4)) \n",
    "print('Array',x2) \n",
    "print('Slice two rows and three columns') \n",
    "print(x[:2,:3]) \n",
    "print('Slice three rows and two columns') \n",
    "print(x[:3,::2]) \n",
    "print('Slice a particular value') \n",
    "print(x[:1,:1])"
   ]
  },
  {
   "cell_type": "code",
   "execution_count": 20,
   "id": "226d0c3a-e3e0-4807-ba53-d1801a081a21",
   "metadata": {},
   "outputs": [
    {
     "name": "stdout",
     "output_type": "stream",
     "text": [
      "Array [1 2 3 4 5 6 7 8 9]\n",
      "Reshaped Array\n",
      "[[1 2 3]\n",
      " [4 5 6]\n",
      " [7 8 9]]\n"
     ]
    }
   ],
   "source": [
    "import numpy as np \n",
    "x=np.arange(1,10) \n",
    "print('Array',x) \n",
    "x1=x.reshape(3,3) \n",
    "print('Reshaped Array') \n",
    "print(x1) "
   ]
  },
  {
   "cell_type": "code",
   "execution_count": 22,
   "id": "df0bc2fc-eaf3-4611-9cc9-aa717259c22c",
   "metadata": {},
   "outputs": [
    {
     "name": "stdout",
     "output_type": "stream",
     "text": [
      "X= [1 2 3 4 5]\n",
      "Y= [ 6  7  8  9 10]\n",
      "Array Concatenation\n",
      "Z= [ 1  2  3  4  5  6  7  8  9 10]\n",
      "Array Splitting\n",
      "X1= [1 2 3]\n",
      "X2= [ 4  5  6  7  8  9 10]\n"
     ]
    }
   ],
   "source": [
    "import numpy as np \n",
    "x=np.array([1,2,3,4,5]) \n",
    "y=np.array([6,7,8,9,10]) \n",
    "print('X=',x) \n",
    "print('Y=',y) \n",
    "print('Array Concatenation') \n",
    "z=np.concatenate([x,y]) \n",
    "print('Z=',z) \n",
    "print('Array Splitting') \n",
    "x1,x2=np.split(z,[3]) \n",
    "print('X1=',x1) \n",
    "print('X2=',x2) "
   ]
  },
  {
   "cell_type": "code",
   "execution_count": null,
   "id": "1c120d66-4af6-4e54-9630-9fb27497b691",
   "metadata": {},
   "outputs": [],
   "source": []
  }
 ],
 "metadata": {
  "kernelspec": {
   "display_name": "Python [conda env:base] *",
   "language": "python",
   "name": "conda-base-py"
  },
  "language_info": {
   "codemirror_mode": {
    "name": "ipython",
    "version": 3
   },
   "file_extension": ".py",
   "mimetype": "text/x-python",
   "name": "python",
   "nbconvert_exporter": "python",
   "pygments_lexer": "ipython3",
   "version": "3.11.7"
  }
 },
 "nbformat": 4,
 "nbformat_minor": 5
}
