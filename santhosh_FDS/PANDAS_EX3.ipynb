{
 "cells": [
  {
   "cell_type": "code",
   "execution_count": 5,
   "id": "fb8c63f6-5815-42bc-b678-5f38e3ce64f6",
   "metadata": {},
   "outputs": [],
   "source": [
    "# pip show pandas"
   ]
  },
  {
   "cell_type": "code",
   "execution_count": 9,
   "id": "6098cf2c-01a0-421c-a35a-5a5100e4aa2c",
   "metadata": {},
   "outputs": [
    {
     "name": "stdout",
     "output_type": "stream",
     "text": [
      "0    10\n",
      "1    20\n",
      "2    30\n",
      "3    40\n",
      "4    50\n",
      "dtype: int64\n"
     ]
    }
   ],
   "source": [
    "import pandas as pd \n",
    "x=pd.Series([10,20,30,40,50])  \n",
    "print(x) "
   ]
  },
  {
   "cell_type": "code",
   "execution_count": 11,
   "id": "90911d37-70ee-4254-964f-5c866dd82b57",
   "metadata": {},
   "outputs": [
    {
     "name": "stdout",
     "output_type": "stream",
     "text": [
      "a    10\n",
      "b    20\n",
      "c    30\n",
      "d    40\n",
      "e    50\n",
      "dtype: int64\n"
     ]
    }
   ],
   "source": [
    "import pandas as pd  \n",
    "x=pd.Series([10,20,30,40,50],index=['a','b','c','d','e']) \n",
    "print(x) "
   ]
  },
  {
   "cell_type": "code",
   "execution_count": 15,
   "id": "172fd57c-a0dc-4f83-9d00-0773e0aac8c7",
   "metadata": {},
   "outputs": [
    {
     "name": "stdout",
     "output_type": "stream",
     "text": [
      "Ram       80\n",
      "Kasim     90\n",
      "Faizal    85\n",
      "Tamil     95\n",
      "Sai       92\n",
      "dtype: int64\n",
      "Display a single data in series\n",
      "80\n",
      "Display a set of data in series\n",
      "Kasim     90\n",
      "Faizal    85\n",
      "Tamil     95\n",
      "dtype: int64\n"
     ]
    }
   ],
   "source": [
    "import pandas as pd  \n",
    "marks={'Ram':80,'Kasim':90,'Faizal':85,'Tamil':95,'Sai':92} \n",
    "result=pd.Series(marks) \n",
    "print(result)  \n",
    "print('Display a single data in series') \n",
    "print(result['Ram'])  \n",
    "print('Display a set of data in series')  \n",
    "print(result['Kasim':'Tamil'])"
   ]
  },
  {
   "cell_type": "code",
   "execution_count": 17,
   "id": "07c4e5c8-99e6-4457-a361-2eb0b2222cc9",
   "metadata": {},
   "outputs": [
    {
     "name": "stdout",
     "output_type": "stream",
     "text": [
      "   Roll No  Percentage\n",
      "0      100          95\n",
      "1      101          80\n",
      "2      102          75\n"
     ]
    }
   ],
   "source": [
    " import pandas as pd  \n",
    "data={\"Roll No\": [100, 101, 102], \n",
    "\"Percentage\":[95,80,75]}  \n",
    "df=pd.DataFrame(data)  \n",
    "print(df) "
   ]
  },
  {
   "cell_type": "code",
   "execution_count": 23,
   "id": "6f06d690-627c-4051-aeed-dd7b521ed750",
   "metadata": {},
   "outputs": [
    {
     "name": "stdout",
     "output_type": "stream",
     "text": [
      "Roll No       101\n",
      "Percentage     80\n",
      "Name: 1, dtype: int64\n"
     ]
    }
   ],
   "source": [
    "import pandas as pd  \n",
    "data={\"Roll No\":[100, 101, 102],\"Percentage\":[95,80,75]} \n",
    "df=pd.DataFrame(data)\n",
    "print(df.loc[1]) "
   ]
  },
  {
   "cell_type": "code",
   "execution_count": 29,
   "id": "14b64208-ef03-450a-81e5-2b4d1fcda14f",
   "metadata": {},
   "outputs": [
    {
     "name": "stdout",
     "output_type": "stream",
     "text": [
      "     Roll No  Percentage\n",
      "AAA      100          95\n",
      "BBB      101          80\n",
      "CCC      102          75\n",
      "Locate a named index\n",
      "Roll No       101\n",
      "Percentage     80\n",
      "Name: BBB, dtype: int64\n"
     ]
    }
   ],
   "source": [
    "import pandas as pd \n",
    "data={\"Roll No\":[100, 101,102], \"Percentage\":[95,80,75]} \n",
    "df=pd.DataFrame(data,index=[\"AAA\", \"BBB\", \"CCC\"])  \n",
    "print(df)  \n",
    "print('Locate a named index') \n",
    "print(df.loc['BBB']) "
   ]
  },
  {
   "cell_type": "code",
   "execution_count": 33,
   "id": "a55f640d-87fa-4a25-a906-a36fe476da09",
   "metadata": {},
   "outputs": [
    {
     "data": {
      "text/html": [
       "<div>\n",
       "<style scoped>\n",
       "    .dataframe tbody tr th:only-of-type {\n",
       "        vertical-align: middle;\n",
       "    }\n",
       "\n",
       "    .dataframe tbody tr th {\n",
       "        vertical-align: top;\n",
       "    }\n",
       "\n",
       "    .dataframe thead th {\n",
       "        text-align: right;\n",
       "    }\n",
       "</style>\n",
       "<table border=\"1\" class=\"dataframe\">\n",
       "  <thead>\n",
       "    <tr style=\"text-align: right;\">\n",
       "      <th></th>\n",
       "      <th>First Score</th>\n",
       "      <th>Second Score</th>\n",
       "      <th>Third Score</th>\n",
       "    </tr>\n",
       "  </thead>\n",
       "  <tbody>\n",
       "    <tr>\n",
       "      <th>1</th>\n",
       "      <td>90.0</td>\n",
       "      <td>45.0</td>\n",
       "      <td>40.0</td>\n",
       "    </tr>\n",
       "  </tbody>\n",
       "</table>\n",
       "</div>"
      ],
      "text/plain": [
       "   First Score  Second Score  Third Score\n",
       "1         90.0          45.0         40.0"
      ]
     },
     "execution_count": 33,
     "metadata": {},
     "output_type": "execute_result"
    }
   ],
   "source": [
    "import pandas as pd  \n",
    "import numpy as np  \n",
    "dict = {'First Score':[100, 90, np.nan, 95],'Second Score':[30,45,56,np.nan],  \n",
    "'Third Score':[np.nan, 40, 80, 98]}  \n",
    "df=pd.DataFrame(dict) \n",
    "df.dropna() "
   ]
  },
  {
   "cell_type": "code",
   "execution_count": 35,
   "id": "56720ea4-4ff3-47d9-a28a-cd6a7129e1d5",
   "metadata": {},
   "outputs": [
    {
     "name": "stdout",
     "output_type": "stream",
     "text": [
      "Originalseries:\n",
      "0         X\n",
      "1         Y\n",
      "2         Z\n",
      "3      Aaba\n",
      "4      Baca\n",
      "5       NaN\n",
      "6      CABA\n",
      "7      None\n",
      "8      bird\n",
      "9     horse\n",
      "10      dog\n",
      "dtype: object\n",
      "\n",
      " Convert all string values to uppercase:\n",
      "0         X\n",
      "1         Y\n",
      "2         Z\n",
      "3      AABA\n",
      "4      BACA\n",
      "5       NaN\n",
      "6      CABA\n",
      "7      None\n",
      "8      BIRD\n",
      "9     HORSE\n",
      "10      DOG\n",
      "dtype: object\n",
      "\n",
      " Convertall string values to lowercase:\n",
      "0         x\n",
      "1         y\n",
      "2         z\n",
      "3      aaba\n",
      "4      baca\n",
      "5       NaN\n",
      "6      caba\n",
      "7      None\n",
      "8      bird\n",
      "9     horse\n",
      "10      dog\n",
      "dtype: object\n",
      "\n",
      "Length of the string values:\n",
      "0     1.0\n",
      "1     1.0\n",
      "2     1.0\n",
      "3     4.0\n",
      "4     4.0\n",
      "5     NaN\n",
      "6     4.0\n",
      "7     NaN\n",
      "8     4.0\n",
      "9     5.0\n",
      "10    3.0\n",
      "dtype: float64\n"
     ]
    }
   ],
   "source": [
    "import pandas as pd  \n",
    "import numpy as np  \n",
    "s=pd.Series(['X','Y','Z','Aaba','Baca',np.nan,'CABA',None,'bird','horse','dog'])  \n",
    "print(\"Originalseries:\") \n",
    "print(s)  \n",
    "print(\"\\n Convert all string values to uppercase:\")  \n",
    "print(s.str.upper()) \n",
    "print(\"\\n Convertall string values to lowercase:\")  \n",
    "print(s.str.lower()) \n",
    "print(\"\\nLength of the string values:\")  \n",
    "print(s.str.len()) "
   ]
  },
  {
   "cell_type": "code",
   "execution_count": 41,
   "id": "e6d6c39d-a7ef-4c7f-8568-4a339215cf20",
   "metadata": {},
   "outputs": [
    {
     "name": "stdout",
     "output_type": "stream",
     "text": [
      "Original series:\n",
      "Index(['Green', 'Black', 'Red', 'White', 'Pink'], dtype='object')\n",
      "\n",
      " Remove whitespace\n",
      "Index(['Green', 'Black', 'Red', 'White', 'Pink'], dtype='object')\n",
      "\n",
      " Remove left sided whites pace\n",
      "Index(['Green', 'Black', 'Red', 'White', 'Pink'], dtype='object')\n",
      "\n",
      " Remove Right sided whitespace\n",
      "Index(['Green', 'Black', 'Red', 'White', 'Pink'], dtype='object')\n"
     ]
    }
   ],
   "source": [
    "import pandas as pd \n",
    "color1=pd.Index(['Green','Black','Red','White','Pink'])  \n",
    "print(\"Original series:\") \n",
    "print(color1)  \n",
    "print(\"\\n Remove whitespace\")  \n",
    "print(color1.str.strip()) \n",
    "print(\"\\n Remove left sided whites pace\")  \n",
    "print(color1.str.lstrip()) \n",
    "print(\"\\n Remove Right sided whitespace\")  \n",
    "print(color1.str.rstrip()) "
   ]
  },
  {
   "cell_type": "code",
   "execution_count": 51,
   "id": "750cfe78-099a-4937-b0bc-c80b1c1d540c",
   "metadata": {},
   "outputs": [
    {
     "name": "stdout",
     "output_type": "stream",
     "text": [
      "Original Data Frames:\n",
      "  student_id name  marks\n",
      "0         S1  AAA    200\n",
      "1         S2  BBB    210\n",
      "2         S3  CCC    190\n",
      "3         S4  DDD    222\n",
      "4         S5  EEE    199\n",
      "\n",
      " New Row(s)\n",
      "student_id     S6\n",
      "name          FFF\n",
      "marks         205\n",
      "dtype: object\n",
      "\n",
      " Combined data:\n",
      "  student_id name  marks    0\n",
      "0         S1  AAA  200.0  NaN\n",
      "1         S2  BBB  210.0  NaN\n",
      "2         S3  CCC  190.0  NaN\n",
      "3         S4  DDD  222.0  NaN\n",
      "4         S5  EEE  199.0  NaN\n",
      "5        NaN  NaN    NaN   S6\n",
      "6        NaN  NaN    NaN  FFF\n",
      "7        NaN  NaN    NaN  205\n"
     ]
    }
   ],
   "source": [
    "\n",
    "import pandas as pd  \n",
    "student_data1=pd.DataFrame({  \n",
    "'student_id':['S1','S2','S3','S4','S5'], \n",
    "'name':['AAA','BBB','CCC','DDD','EEE'],'marks':[200, 210, 190, 222, 199]}) \n",
    "s6=pd.Series(['S6','FFF',205],  \n",
    "index=['student_id','name','marks'])  \n",
    "print(\"Original Data Frames:\") \n",
    "print(student_data1)  \n",
    "print(\"\\n New Row(s)\") \n",
    "print(s6)  \n",
    "combined_data = pd.concat([student_data1, s6], ignore_index=True)\n",
    "print(\"\\n Combined data:\") \n",
    "print(combined_data) "
   ]
  },
  {
   "cell_type": "code",
   "execution_count": null,
   "id": "0f14cdbb-844c-4069-9719-bf12717bb505",
   "metadata": {},
   "outputs": [],
   "source": []
  }
 ],
 "metadata": {
  "kernelspec": {
   "display_name": "Python [conda env:base] *",
   "language": "python",
   "name": "conda-base-py"
  },
  "language_info": {
   "codemirror_mode": {
    "name": "ipython",
    "version": 3
   },
   "file_extension": ".py",
   "mimetype": "text/x-python",
   "name": "python",
   "nbconvert_exporter": "python",
   "pygments_lexer": "ipython3",
   "version": "3.11.7"
  }
 },
 "nbformat": 4,
 "nbformat_minor": 5
}
